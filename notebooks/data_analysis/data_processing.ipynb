version https://git-lfs.github.com/spec/v1
oid sha256:c192ebf3a148b0aff111be61b20eb8f7c2b8e2eadc85920c4ca870e21fdb946b
size 385092
