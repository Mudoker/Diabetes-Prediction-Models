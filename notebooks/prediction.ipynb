{
 "cells": [
  {
   "cell_type": "markdown",
   "metadata": {},
   "source": [
    "<center>\n",
    "\n",
    "### COSC2753 - Machine Learning\n",
    "\n",
    "# **Testing Data Prediction**\n",
    "\n",
    "<center>────────────────────────────</center>\n",
    "&nbsp;"
   ]
  },
  {
   "cell_type": "markdown",
   "metadata": {},
   "source": [
    "# I. Global Configuration"
   ]
  },
  {
   "cell_type": "code",
   "execution_count": 61,
   "metadata": {
    "metadata": {}
   },
   "outputs": [
    {
     "name": "stdout",
     "output_type": "stream",
     "text": [
      "┌──────────────────────────────────┐\n",
      "│  Validating Package Versions...  │\n",
      "└──────────────────────────────────┘\n",
      ">>> numpy is up to date: 1.26.4\n",
      ">>> pandas is up to date: 2.2.1\n",
      ">>> tabulate is up to date: 0.9.0\n",
      ">>> sklearn is up to date: 1.4.1.post1\n",
      ">>> statsmodels is up to date: 0.14.1\n",
      ">>> imblearn is up to date: 0.12.2\n",
      "\u001b[1m\u001b[3m\n",
      "Done validating packages\n",
      "\u001b[0m\n",
      "┌───────────────────────────┐\n",
      "│  Initializing Project...  │\n",
      "└───────────────────────────┘\n",
      "\n",
      "    /\\_____/\\\n",
      "   /  x   o  \\\n",
      "  ( ==  ^  == )       Neko has arrived!\n",
      "   )         (        An data visualizing extension for analyzing DataFrames.\n",
      "  (           )       Art: https://www.asciiart.eu/animals/cats.\n",
      " ( (  )   (  ) )\n",
      "(__(__)___(__)__)\n",
      "\n",
      "\u001b[1m\u001b[3mDone initializing project...\u001b[0m\n"
     ]
    }
   ],
   "source": [
    "import sys\n",
    "import importlib\n",
    "import tabulate\n",
    "import pandas as pd\n",
    "import numpy as np\n",
    "import sklearn\n",
    "import statsmodels\n",
    "import imblearn\n",
    "from sklearn.model_selection import train_test_split\n",
    "from sklearn.ensemble import RandomForestClassifier\n",
    "\n",
    "# Reload modules\n",
    "sys.path.append(\"../\")  # Root directory\n",
    "modules_to_reload = [\n",
    "    \"scripts.styler\",\n",
    "    \"scripts.neko\",\n",
    "    \"scripts.utils\",\n",
    "]\n",
    "\n",
    "# Reload modules if they have been modified\n",
    "missing_modules = []\n",
    "\n",
    "for module_name in modules_to_reload:\n",
    "    if module_name in sys.modules:\n",
    "        importlib.reload(sys.modules[module_name])\n",
    "    else:\n",
    "        missing_modules.append(module_name)\n",
    "\n",
    "# Recache missing modules\n",
    "if missing_modules:\n",
    "    print(f\"Modules {missing_modules} not found. \\nRecaching...\")\n",
    "\n",
    "# Import user-defined scripts\n",
    "from scripts.styler import Styler\n",
    "from scripts.neko import Neko\n",
    "from scripts.utils import Utils\n",
    "\n",
    "# Initialize styler\n",
    "styler = Styler()  # Text Styler\n",
    "\n",
    "# Check package versions\n",
    "styler.draw_box(\"Validating Package Versions...\")\n",
    "\n",
    "try:\n",
    "    with open(\"../requirements.txt\", \"r\") as file:\n",
    "        requirements = file.readlines()\n",
    "except FileNotFoundError:\n",
    "    print(f\"File '../requirements.txt' not found. Please check your directory!\")\n",
    "\n",
    "packages_to_check = [np, pd, tabulate, sklearn, statsmodels, imblearn]\n",
    "\n",
    "for package in packages_to_check:\n",
    "    Utils.version_check(package, requirements=requirements)\n",
    "\n",
    "styled_text = styler.style(\"\\nDone validating packages\\n\", bold=True, italic=True)\n",
    "print(styled_text)\n",
    "\n",
    "# Initialize objects\n",
    "styler.draw_box(\"Initializing Project...\")\n",
    "neko = Neko()  # Panda extension\n",
    "bullet = \">>>\"  # Bullet point\n",
    "\n",
    "# Configuration\n",
    "pd.set_option(\"display.max_columns\", None)\n",
    "pd.set_option(\"display.max_rows\", None)\n",
    "pd.set_option(\"display.precision\", 3)\n",
    "\n",
    "styled_text = styler.style(\"Done initializing project...\", bold=True, italic=True)\n",
    "print(styled_text)"
   ]
  },
  {
   "cell_type": "markdown",
   "metadata": {},
   "source": [
    "## II. Data Loading"
   ]
  },
  {
   "cell_type": "code",
   "execution_count": 62,
   "metadata": {
    "metadata": {}
   },
   "outputs": [
    {
     "name": "stdout",
     "output_type": "stream",
     "text": [
      "┌────────────────────────────┐\n",
      "│  Data Loaded Successfully  │\n",
      "└────────────────────────────┘\n"
     ]
    }
   ],
   "source": [
    "try:\n",
    "    # Load data\n",
    "    df_test = pd.read_csv(\"../data/test/data_test.csv\")\n",
    "    df_result = pd.read_csv(\"../results/COSC2753_A1_Predictions_S3927776.csv\")\n",
    "    df_train = pd.read_csv(\"../data/processed/data_train_processed.csv\")\n",
    "\n",
    "    styler.draw_box(\"Data Loaded Successfully\")\n",
    "\n",
    "except FileNotFoundError:\n",
    "    print(\"Error: File not found. Please check the file path.\")\n",
    "except Exception as e:\n",
    "    print(\"An error occurred:\", e)"
   ]
  },
  {
   "cell_type": "code",
   "execution_count": 63,
   "metadata": {
    "metadata": {}
   },
   "outputs": [
    {
     "name": "stdout",
     "output_type": "stream",
     "text": [
      "<class 'pandas.core.frame.DataFrame'>\n",
      "RangeIndex: 50736 entries, 0 to 50735\n",
      "Data columns (total 25 columns):\n",
      " #   Column                Non-Null Count  Dtype  \n",
      "---  ------                --------------  -----  \n",
      " 0   Id                    50736 non-null  int64  \n",
      " 1   HighBP                50736 non-null  int64  \n",
      " 2   HighChol              50736 non-null  int64  \n",
      " 3   CholCheck             50736 non-null  int64  \n",
      " 4   BMI                   50736 non-null  int64  \n",
      " 5   Smoker                50736 non-null  int64  \n",
      " 6   Stroke                50736 non-null  int64  \n",
      " 7   HeartDiseaseorAttack  50736 non-null  int64  \n",
      " 8   PhysActivity          50736 non-null  int64  \n",
      " 9   Fruits                50736 non-null  int64  \n",
      " 10  Veggies               50736 non-null  int64  \n",
      " 11  HvyAlcoholConsump     50736 non-null  int64  \n",
      " 12  AnyHealthcare         50736 non-null  int64  \n",
      " 13  NoDocbcCost           50736 non-null  int64  \n",
      " 14  GenHlth               50736 non-null  int64  \n",
      " 15  MentHlth              50736 non-null  int64  \n",
      " 16  PhysHlth              50736 non-null  int64  \n",
      " 17  DiffWalk              50736 non-null  int64  \n",
      " 18  Sex                   50736 non-null  int64  \n",
      " 19  Age                   50736 non-null  int64  \n",
      " 20  Education             50736 non-null  int64  \n",
      " 21  Income                50736 non-null  int64  \n",
      " 22  ExtraMedTest          50736 non-null  int64  \n",
      " 23  ExtraAlcoholTest      50736 non-null  int64  \n",
      " 24  Status                0 non-null      float64\n",
      "dtypes: float64(1), int64(24)\n",
      "memory usage: 9.7 MB\n"
     ]
    }
   ],
   "source": [
    "df_test.info()"
   ]
  },
  {
   "cell_type": "code",
   "execution_count": 64,
   "metadata": {
    "metadata": {}
   },
   "outputs": [
    {
     "name": "stdout",
     "output_type": "stream",
     "text": [
      "<class 'pandas.core.frame.DataFrame'>\n",
      "RangeIndex: 50736 entries, 0 to 50735\n",
      "Data columns (total 2 columns):\n",
      " #   Column  Non-Null Count  Dtype  \n",
      "---  ------  --------------  -----  \n",
      " 0   Id      50736 non-null  int64  \n",
      " 1   Status  0 non-null      float64\n",
      "dtypes: float64(1), int64(1)\n",
      "memory usage: 792.9 KB\n"
     ]
    }
   ],
   "source": [
    "df_result.info()"
   ]
  },
  {
   "cell_type": "markdown",
   "metadata": {},
   "source": [
    "# III. Data Prediction"
   ]
  },
  {
   "cell_type": "markdown",
   "metadata": {},
   "source": [
    "Building on the previous notebook, this section leverages a **Random Forest model** for test data prediction. As previously discussed, no additional preprocessing is necessary for the test data."
   ]
  },
  {
   "cell_type": "code",
   "execution_count": 65,
   "metadata": {
    "metadata": {}
   },
   "outputs": [],
   "source": [
    "# Drop \"Id\" column from df_test\n",
    "patient_id = df_test[\"Id\"].values\n",
    "df_test.drop(columns=[\"Id\", \"Status\"], inplace=True)\n",
    "\n",
    "# Split data\n",
    "X_train = df_train.drop(columns=[\"Status\"], axis=1)\n",
    "y_train = df_train[\"Status\"]"
   ]
  },
  {
   "cell_type": "code",
   "execution_count": 66,
   "metadata": {
    "metadata": {}
   },
   "outputs": [
    {
     "name": "stdout",
     "output_type": "stream",
     "text": [
      "┌──────────────────────────────────────────────┐\n",
      "│  Performing Random Forest Classification...  │\n",
      "└──────────────────────────────────────────────┘\n",
      "┌─────────────────────────────────────────┐\n",
      "│  Random Forest Classification Complete  │\n",
      "└─────────────────────────────────────────┘\n"
     ]
    }
   ],
   "source": [
    "styler.draw_box(\"Performing Random Forest Classification...\")\n",
    "\n",
    "rf = RandomForestClassifier(\n",
    "    n_estimators=225,\n",
    "    min_samples_split=17,\n",
    "    min_samples_leaf=4,\n",
    "    max_features=None,\n",
    "    max_depth=40,\n",
    "    criterion=\"entropy\",\n",
    "    ccp_alpha=0.0,\n",
    ")\n",
    "\n",
    "rf.fit(X_train, y_train)\n",
    "\n",
    "# Make predictions on df_test\n",
    "pred_y = rf.predict(df_test)\n",
    "\n",
    "# Create a DataFrame\n",
    "df_pred = pd.DataFrame({\"Id\": patient_id, \"Status\": pred_y})\n",
    "\n",
    "# Save predictions to a CSV file\n",
    "df_pred.head()\n",
    "\n",
    "styler.draw_box(\"Random Forest Classification Complete\")"
   ]
  },
  {
   "cell_type": "code",
   "execution_count": 68,
   "metadata": {
    "metadata": {}
   },
   "outputs": [
    {
     "data": {
      "text/html": [
       "<div>\n",
       "<style scoped>\n",
       "    .dataframe tbody tr th:only-of-type {\n",
       "        vertical-align: middle;\n",
       "    }\n",
       "\n",
       "    .dataframe tbody tr th {\n",
       "        vertical-align: top;\n",
       "    }\n",
       "\n",
       "    .dataframe thead th {\n",
       "        text-align: right;\n",
       "    }\n",
       "</style>\n",
       "<table border=\"1\" class=\"dataframe\">\n",
       "  <thead>\n",
       "    <tr style=\"text-align: right;\">\n",
       "      <th></th>\n",
       "      <th>Id</th>\n",
       "      <th>Status</th>\n",
       "    </tr>\n",
       "  </thead>\n",
       "  <tbody>\n",
       "    <tr>\n",
       "      <th>0</th>\n",
       "      <td>202944</td>\n",
       "      <td>0</td>\n",
       "    </tr>\n",
       "    <tr>\n",
       "      <th>1</th>\n",
       "      <td>202945</td>\n",
       "      <td>1</td>\n",
       "    </tr>\n",
       "    <tr>\n",
       "      <th>2</th>\n",
       "      <td>202946</td>\n",
       "      <td>1</td>\n",
       "    </tr>\n",
       "    <tr>\n",
       "      <th>3</th>\n",
       "      <td>202947</td>\n",
       "      <td>0</td>\n",
       "    </tr>\n",
       "    <tr>\n",
       "      <th>4</th>\n",
       "      <td>202948</td>\n",
       "      <td>1</td>\n",
       "    </tr>\n",
       "  </tbody>\n",
       "</table>\n",
       "</div>"
      ],
      "text/plain": [
       "       Id  Status\n",
       "0  202944       0\n",
       "1  202945       1\n",
       "2  202946       1\n",
       "3  202947       0\n",
       "4  202948       1"
      ]
     },
     "execution_count": 68,
     "metadata": {},
     "output_type": "execute_result"
    }
   ],
   "source": [
    "df_pred.head()"
   ]
  },
  {
   "cell_type": "code",
   "execution_count": 67,
   "metadata": {
    "metadata": {}
   },
   "outputs": [
    {
     "name": "stdout",
     "output_type": "stream",
     "text": [
      "Predictions saved to 'COSC2753_A1_Predictions_S3927776.csv'\n"
     ]
    }
   ],
   "source": [
    "try:\n",
    "    df_pred.to_csv(\"../results/COSC2753_A1_Predictions_S3927776.csv\", index=False)\n",
    "    print(\"Predictions saved to 'COSC2753_A1_Predictions_S3927776.csv'\")\n",
    "\n",
    "except FileNotFoundError:\n",
    "    print(\"Error: File not found. Please check the file path.\")"
   ]
  }
 ],
 "metadata": {
  "kernelspec": {
   "display_name": "Python 3",
   "language": "python",
   "name": "python3"
  },
  "language_info": {
   "codemirror_mode": {
    "name": "ipython",
    "version": 3
   },
   "file_extension": ".py",
   "mimetype": "text/x-python",
   "name": "python",
   "nbconvert_exporter": "python",
   "pygments_lexer": "ipython3",
   "version": "3.12.2"
  }
 },
 "nbformat": 4,
 "nbformat_minor": 2
}
