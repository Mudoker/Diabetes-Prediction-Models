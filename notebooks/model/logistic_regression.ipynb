{
 "cells": [
  {
   "cell_type": "code",
   "execution_count": 9,
   "metadata": {},
   "outputs": [],
   "source": [
    "from sklearn.model_selection import train_test_split\n",
    "from sklearn.linear_model import LogisticRegression\n",
    "from sklearn.metrics import accuracy_score\n",
    "import pandas as pd\n",
    "from sklearn.metrics import classification_report"
   ]
  },
  {
   "cell_type": "code",
   "execution_count": 13,
   "metadata": {
    "tags": []
   },
   "outputs": [],
   "source": [
    "# df = pd.read_csv(\"../data/processed/data_train_processed.csv\")\n",
    "df = pd.read_csv(\"../../data/cleaned/data_train_cleaned.csv\")\n",
    "\n",
    "# Drop the 'Status' column for features and assign it to X\n",
    "X = df.drop(columns=[\"Status\"])\n",
    "\n",
    "# Assign the 'Status' column to y as the target variable\n",
    "y = df[\"Status\"]"
   ]
  },
  {
   "cell_type": "code",
   "execution_count": 14,
   "metadata": {},
   "outputs": [
    {
     "name": "stdout",
     "output_type": "stream",
     "text": [
      "Training R^2 Score: 0.7855883295928182\n",
      "Testing R^2 Score: 0.7840090756634113\n",
      "Mean Squared Error: 0.7840090756634113\n",
      "              precision    recall  f1-score   support\n",
      "\n",
      "           0       0.94      0.79      0.86     33400\n",
      "           1       0.44      0.77      0.56      7148\n",
      "\n",
      "    accuracy                           0.78     40548\n",
      "   macro avg       0.69      0.78      0.71     40548\n",
      "weighted avg       0.85      0.78      0.80     40548\n",
      "\n"
     ]
    }
   ],
   "source": [
    "# Split the data into training and testing sets\n",
    "X_train, X_test, y_train, y_test = train_test_split(X, y, test_size=0.2, random_state=1)\n",
    "\n",
    "# Creating and training the linear regression model\n",
    "model = LogisticRegression(class_weight='balanced', max_iter=1000)\n",
    "model.fit(X_train, y_train)\n",
    "\n",
    "# Evaluation\n",
    "train_score = model.score(X_train, y_train)\n",
    "test_score = model.score(X_test, y_test)\n",
    "\n",
    "# Accuracy\n",
    "accuracy = accuracy_score(y_test, model.predict(X_test))\n",
    "print(\"Training R^2 Score:\", train_score)\n",
    "print(\"Testing R^2 Score:\", test_score)\n",
    "print(\"Mean Squared Error:\", accuracy)\n",
    "\n",
    "# Show classification report\n",
    "y_pred = model.predict(X_test)\n",
    "print(classification_report(y_test, y_pred))"
   ]
  }
 ],
 "metadata": {
  "kernelspec": {
   "display_name": "Python 3",
   "language": "python",
   "name": "python3"
  },
  "language_info": {
   "codemirror_mode": {
    "name": "ipython",
    "version": 3
   },
   "file_extension": ".py",
   "mimetype": "text/x-python",
   "name": "python",
   "nbconvert_exporter": "python",
   "pygments_lexer": "ipython3",
   "version": "3.12.2"
  }
 },
 "nbformat": 4,
 "nbformat_minor": 2
}
