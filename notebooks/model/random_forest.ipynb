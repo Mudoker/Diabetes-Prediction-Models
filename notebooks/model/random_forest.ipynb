{
 "cells": [
  {
   "cell_type": "code",
   "execution_count": 5,
   "metadata": {},
   "outputs": [],
   "source": [
    "import pandas as pd\n",
    "from sklearn.model_selection import train_test_split\n",
    "from sklearn.ensemble import RandomForestClassifier\n",
    "from sklearn.metrics import accuracy_score"
   ]
  },
  {
   "cell_type": "code",
   "execution_count": 9,
   "metadata": {},
   "outputs": [
    {
     "name": "stdout",
     "output_type": "stream",
     "text": [
      "              HighBP       HighChol      CholCheck            BMI  \\\n",
      "count  334210.000000  334210.000000  334210.000000  334210.000000   \n",
      "mean        0.519775       0.494803       0.971060       0.197968   \n",
      "std         0.499610       0.499974       0.167638       0.067654   \n",
      "min         0.000000       0.000000       0.000000       0.017442   \n",
      "25%         0.000000       0.000000       1.000000       0.151163   \n",
      "50%         1.000000       0.000000       1.000000       0.186047   \n",
      "75%         1.000000       1.000000       1.000000       0.244186   \n",
      "max         1.000000       1.000000       1.000000       0.343023   \n",
      "\n",
      "              Smoker         Stroke  HeartDiseaseorAttack  PhysActivity  \\\n",
      "count  334210.000000  334210.000000         334210.000000  334210.00000   \n",
      "mean        0.464543       0.055707              0.130256       0.72061   \n",
      "std         0.498742       0.229356              0.336586       0.44870   \n",
      "min         0.000000       0.000000              0.000000       0.00000   \n",
      "25%         0.000000       0.000000              0.000000       0.00000   \n",
      "50%         0.000000       0.000000              0.000000       1.00000   \n",
      "75%         1.000000       0.000000              0.000000       1.00000   \n",
      "max         1.000000       1.000000              1.000000       1.00000   \n",
      "\n",
      "              Fruits        Veggies  ...    Education_5    Education_6  \\\n",
      "count  334210.000000  334210.000000  ...  334210.000000  334210.000000   \n",
      "mean        0.621014       0.795183  ...       0.279818       0.384321   \n",
      "std         0.485135       0.403569  ...       0.448910       0.486435   \n",
      "min         0.000000       0.000000  ...       0.000000       0.000000   \n",
      "25%         0.000000       1.000000  ...       0.000000       0.000000   \n",
      "50%         1.000000       1.000000  ...       0.000000       0.000000   \n",
      "75%         1.000000       1.000000  ...       1.000000       1.000000   \n",
      "max         1.000000       1.000000  ...       1.000000       1.000000   \n",
      "\n",
      "            Income_2       Income_3       Income_4       Income_5  \\\n",
      "count  334210.000000  334210.000000  334210.000000  334210.000000   \n",
      "mean        0.058314       0.073340       0.089291       0.109440   \n",
      "std         0.234336       0.260694       0.285164       0.312191   \n",
      "min         0.000000       0.000000       0.000000       0.000000   \n",
      "25%         0.000000       0.000000       0.000000       0.000000   \n",
      "50%         0.000000       0.000000       0.000000       0.000000   \n",
      "75%         0.000000       0.000000       0.000000       0.000000   \n",
      "max         1.000000       1.000000       1.000000       1.000000   \n",
      "\n",
      "            Income_6       Income_7       Income_8         Status  \n",
      "count  334210.000000  334210.000000  334210.000000  334210.000000  \n",
      "mean        0.145893       0.164495       0.311810       0.500000  \n",
      "std         0.353000       0.370725       0.463233       0.500001  \n",
      "min         0.000000       0.000000       0.000000       0.000000  \n",
      "25%         0.000000       0.000000       0.000000       0.000000  \n",
      "50%         0.000000       0.000000       0.000000       0.500000  \n",
      "75%         0.000000       0.000000       1.000000       1.000000  \n",
      "max         1.000000       1.000000       1.000000       1.000000  \n",
      "\n",
      "[8 rows x 48 columns]\n"
     ]
    }
   ],
   "source": [
    "# Load cleaned data\n",
    "data = pd.read_csv(\"../../data/processed/data_train_processed.csv\")\n",
    "\n",
    "# Split data into features (X) and target (y)\n",
    "X = data.drop(\"Status\", axis=1)\n",
    "y = data[\"Status\"]"
   ]
  },
  {
   "cell_type": "code",
   "execution_count": 7,
   "metadata": {},
   "outputs": [
    {
     "name": "stdout",
     "output_type": "stream",
     "text": [
      "Accuracy: 0.97\n"
     ]
    }
   ],
   "source": [
    "# Split the data into training and testing sets\n",
    "X_train, X_test, y_train, y_test = train_test_split(\n",
    "    X, y, test_size=0.2, random_state=42\n",
    ")\n",
    "\n",
    "# Create a random forest classifier with 100 trees\n",
    "clf = RandomForestClassifier(n_estimators=100, random_state=42)\n",
    "\n",
    "# Train the classifier\n",
    "clf.fit(X_train, y_train)\n",
    "\n",
    "# Accuracy on the test set\n",
    "accuracy = clf.score(X_test, y_test)\n",
    "print(f\"Accuracy: {accuracy:.2f}\")"
   ]
  }
 ],
 "metadata": {
  "kernelspec": {
   "display_name": "Python 3",
   "language": "python",
   "name": "python3"
  },
  "language_info": {
   "codemirror_mode": {
    "name": "ipython",
    "version": 3
   },
   "file_extension": ".py",
   "mimetype": "text/x-python",
   "name": "python",
   "nbconvert_exporter": "python",
   "pygments_lexer": "ipython3",
   "version": "3.12.2"
  }
 },
 "nbformat": 4,
 "nbformat_minor": 2
}
