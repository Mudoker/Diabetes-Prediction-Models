{
 "cells": [
  {
   "cell_type": "code",
   "execution_count": 2,
   "metadata": {},
   "outputs": [],
   "source": [
    "import pandas as pd\n",
    "from sklearn.model_selection import train_test_split\n",
    "from sklearn.ensemble import RandomForestClassifier\n",
    "from sklearn.metrics import accuracy_score"
   ]
  },
  {
   "cell_type": "code",
   "execution_count": 8,
   "metadata": {},
   "outputs": [],
   "source": [
    "# Load cleaned data\n",
    "data = pd.read_csv(\"../../data/cleaned/data_train_cleaned.csv\")\n",
    "\n",
    "# Split data into features (X) and target (y)\n",
    "X = data.drop(\"Status\", axis=1)\n",
    "y = data[\"Status\"]"
   ]
  },
  {
   "cell_type": "code",
   "execution_count": 10,
   "metadata": {},
   "outputs": [
    {
     "name": "stdout",
     "output_type": "stream",
     "text": [
      "                      Importance\n",
      "ExtraAlcoholTest        0.266183\n",
      "ExtraMedTest            0.266075\n",
      "BMI                     0.072282\n",
      "PhysHlth                0.033491\n",
      "MentHlth                0.026419\n",
      "HighBP                  0.021770\n",
      "HighChol                0.015889\n",
      "Smoker                  0.014942\n",
      "Fruits                  0.014908\n",
      "Sex                     0.014630\n",
      "DiffWalk                0.013904\n",
      "Veggies                 0.011662\n",
      "PhysActivity            0.011626\n",
      "GenHlth_4               0.011168\n",
      "Education_5             0.009777\n",
      "HeartDiseaseorAttack    0.009668\n",
      "Education_4             0.009190\n",
      "Education_6             0.009083\n",
      "Income_8                0.008368\n",
      "Age_9                   0.008275\n",
      "GenHlth_3               0.008111\n",
      "GenHlth_2               0.008082\n",
      "Income_6                0.008081\n",
      "Age_10                  0.008026\n",
      "Income_7                0.007955\n",
      "Age_8                   0.007721\n",
      "Income_5                0.007281\n",
      "Age_11                  0.007211\n",
      "Age_7                   0.006713\n",
      "NoDocbcCost             0.006591\n",
      "Income_4                0.006470\n",
      "Age_12                  0.006115\n",
      "Age_13                  0.005812\n",
      "Income_3                0.005748\n",
      "GenHlth_5               0.005632\n",
      "Stroke                  0.005597\n",
      "Age_6                   0.005094\n",
      "Income_2                0.004973\n",
      "HvyAlcoholConsump       0.004612\n",
      "Education_3             0.004315\n",
      "AnyHealthcare           0.004268\n",
      "Age_5                   0.003924\n",
      "Age_4                   0.002995\n",
      "Education_2             0.002692\n",
      "CholCheck               0.002510\n",
      "Age_3                   0.002422\n",
      "Age_2                   0.001740\n",
      "Accuracy: 0.91\n"
     ]
    }
   ],
   "source": [
    "# Split the data into training and testing sets\n",
    "X_train, X_test, y_train, y_test = train_test_split(\n",
    "    X, y, test_size=0.3, random_state=42\n",
    ")\n",
    "\n",
    "# Create a random forest classifier with 100 trees\n",
    "clf = RandomForestClassifier(n_estimators=100, random_state=42)\n",
    "\n",
    "# Train the classifier\n",
    "clf.fit(X_train, y_train)\n",
    "\n",
    "# Get feature importances\n",
    "feature_importances = pd.DataFrame(\n",
    "    clf.feature_importances_, index=X.columns, columns=[\"Importance\"]\n",
    ")\n",
    "\n",
    "# Print the most important features\n",
    "print(feature_importances.sort_values(by=\"Importance\", ascending=False))\n",
    "\n",
    "# Accuracy on the test set\n",
    "accuracy = clf.score(X_test, y_test)\n",
    "print(f\"Accuracy: {accuracy:.2f}\")"
   ]
  }
 ],
 "metadata": {
  "kernelspec": {
   "display_name": "Python 3",
   "language": "python",
   "name": "python3"
  },
  "language_info": {
   "codemirror_mode": {
    "name": "ipython",
    "version": 3
   },
   "file_extension": ".py",
   "mimetype": "text/x-python",
   "name": "python",
   "nbconvert_exporter": "python",
   "pygments_lexer": "ipython3",
   "version": "3.12.2"
  }
 },
 "nbformat": 4,
 "nbformat_minor": 2
}
