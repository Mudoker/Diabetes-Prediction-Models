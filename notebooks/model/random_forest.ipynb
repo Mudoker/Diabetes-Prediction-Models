{
 "cells": [
  {
   "cell_type": "code",
   "execution_count": 5,
   "metadata": {
    "metadata": {}
   },
   "outputs": [],
   "source": [
    "import pandas as pd\n",
    "from sklearn.model_selection import GridSearchCV\n",
    "from sklearn.model_selection import train_test_split\n",
    "from sklearn.ensemble import RandomForestClassifier\n",
    "from sklearn.metrics import classification_report"
   ]
  },
  {
   "cell_type": "code",
   "execution_count": 6,
   "metadata": {
    "metadata": {}
   },
   "outputs": [],
   "source": [
    "# Load cleaned data\n",
    "data = pd.read_csv(\"../../data/processed/data_train_processed.csv\")\n",
    "\n",
    "# Split data into features (X) and target (y)\n",
    "X = data.drop(\"Status\", axis=1)\n",
    "y = data[\"Status\"]"
   ]
  },
  {
   "cell_type": "code",
   "execution_count": 7,
   "metadata": {
    "metadata": {}
   },
   "outputs": [
    {
     "name": "stdout",
     "output_type": "stream",
     "text": [
      "Best Parameters: {'n_estimators': 225}\n",
      "Best Score: 0.8648809690758362\n"
     ]
    }
   ],
   "source": [
    "# Split the data into training and testing sets\n",
    "X_train, X_test, y_train, y_test = train_test_split(\n",
    "    X, y, test_size=0.2, random_state=42\n",
    ")\n",
    "\n",
    "# Create a random forest classifier with 100 trees\n",
    "clf = RandomForestClassifier(random_state=42)\n",
    "\n",
    "# Define the parameter grid to search\n",
    "param_grid = {\n",
    "    \"n_estimators\": [175, 200, 225],\n",
    "}\n",
    "\n",
    "# Instantiate GridSearchCV\n",
    "grid_search = GridSearchCV(\n",
    "    estimator=clf, param_grid=param_grid, cv=5, n_jobs=-1, scoring=\"accuracy\"\n",
    ")\n",
    "\n",
    "# Perform the grid search\n",
    "grid_search.fit(X_train, y_train)\n",
    "\n",
    "# Print the best parameters and the corresponding score\n",
    "print(\"Best Parameters:\", grid_search.best_params_)\n",
    "print(\"Best Score:\", grid_search.best_score_)"
   ]
  },
  {
   "cell_type": "code",
   "execution_count": 8,
   "metadata": {
    "metadata": {}
   },
   "outputs": [
    {
     "name": "stdout",
     "output_type": "stream",
     "text": [
      "Accuracy using best estimator: 0.86\n",
      "              precision    recall  f1-score   support\n",
      "\n",
      "           0       0.84      0.89      0.86      7158\n",
      "           1       0.88      0.82      0.85      7095\n",
      "\n",
      "    accuracy                           0.86     14253\n",
      "   macro avg       0.86      0.86      0.86     14253\n",
      "weighted avg       0.86      0.86      0.86     14253\n",
      "\n"
     ]
    }
   ],
   "source": [
    "best_clf = grid_search.best_estimator_\n",
    "accuracy = best_clf.score(X_test, y_test)\n",
    "print(f\"Accuracy using best estimator: {accuracy:.2f}\")\n",
    "\n",
    "# Classification report using the best estimator\n",
    "y_pred = best_clf.predict(X_test)\n",
    "print(classification_report(y_test, y_pred))"
   ]
  }
 ],
 "metadata": {
  "kernelspec": {
   "display_name": "Python 3",
   "language": "python",
   "name": "python3"
  },
  "language_info": {
   "codemirror_mode": {
    "name": "ipython",
    "version": 3
   },
   "file_extension": ".py",
   "mimetype": "text/x-python",
   "name": "python",
   "nbconvert_exporter": "python",
   "pygments_lexer": "ipython3",
   "version": "3.12.2"
  }
 },
 "nbformat": 4,
 "nbformat_minor": 2
}
